{
 "cells": [
  {
   "cell_type": "code",
   "execution_count": 1,
   "id": "ea0c3072",
   "metadata": {},
   "outputs": [],
   "source": [
    "def matching_lines_from_file(path, pattern):\n",
    "    with open(path) as handle:\n",
    "        for line in handle:\n",
    "            if pattern in line:\n",
    "                yield line.rstrip('\\n')"
   ]
  },
  {
   "cell_type": "code",
   "execution_count": 2,
   "id": "e44145bd",
   "metadata": {},
   "outputs": [
    {
     "name": "stdout",
     "output_type": "stream",
     "text": [
      "\\f1\\i scalable composability\n",
      "Ask yourself how you can make the components scalable,\\'a0\n",
      " is assembled out of them scalable too.}\n"
     ]
    }
   ],
   "source": [
    "for line in matching_lines_from_file(\"doctest.rtf\",\"scalable\"):\n",
    "    print(line)"
   ]
  },
  {
   "cell_type": "code",
   "execution_count": null,
   "id": "4b9e8b59",
   "metadata": {},
   "outputs": [],
   "source": []
  }
 ],
 "metadata": {
  "kernelspec": {
   "display_name": "Python 3 (ipykernel)",
   "language": "python",
   "name": "python3"
  },
  "language_info": {
   "codemirror_mode": {
    "name": "ipython",
    "version": 3
   },
   "file_extension": ".py",
   "mimetype": "text/x-python",
   "name": "python",
   "nbconvert_exporter": "python",
   "pygments_lexer": "ipython3",
   "version": "3.10.4"
  }
 },
 "nbformat": 4,
 "nbformat_minor": 5
}
